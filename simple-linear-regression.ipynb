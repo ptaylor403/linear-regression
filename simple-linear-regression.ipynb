{
 "cells": [
  {
   "cell_type": "code",
   "execution_count": 207,
   "metadata": {
    "collapsed": false
   },
   "outputs": [],
   "source": [
    "import pandas as pd\n",
    "import matplotlib.pyplot as plt\n",
    "import numpy as np\n",
    "from sklearn import linear_model\n",
    "import statsmodels.formula.api as smf\n",
    "import seaborn as sns\n",
    "\n",
    "%matplotlib inline"
   ]
  },
  {
   "cell_type": "markdown",
   "metadata": {},
   "source": [
    "## Ground Cricket Chirps\n",
    "\n",
    "In _The Song of Insects_ (1948) by George W. Pierce, Pierce mechanically measured the frequency (the number of wing vibrations per second) of chirps (or pulses of sound) made by a striped ground cricket, at various ground temperatures.  Since crickets are ectotherms (cold-blooded), the rate of their physiological processes and their overall metabolism are influenced by temperature.  Consequently, there is reason to believe that temperature would have a profound effect on aspects of their behavior, such as chirp frequency.\n",
    "\n",
    "In general, it was found that crickets did not sing at temperatures colder than 60&deg; F or warmer than 100&deg; F."
   ]
  },
  {
   "cell_type": "code",
   "execution_count": 208,
   "metadata": {
    "collapsed": false
   },
   "outputs": [],
   "source": [
    "ground_cricket_data = {\"Chirps/Second\": [20.0, 16.0, 19.8, 18.4, 17.1, 15.5, 14.7,\n",
    "                                         15.7, 15.4, 16.3, 15.0, 17.2, 16.0, 17.0,\n",
    "                                         14.4],\n",
    "                       \"Ground Temperature\": [88.6, 71.6, 93.3, 84.3, 80.6, 75.2, 69.7,\n",
    "                                              71.6, 69.4, 83.3, 79.6, 82.6, 80.6, 83.5,\n",
    "                                              76.3]}\n",
    "df = pd.DataFrame(ground_cricket_data)"
   ]
  },
  {
   "cell_type": "markdown",
   "metadata": {},
   "source": [
    "### Tasks\n",
    "\n",
    "1. Find the linear regression equation for this data.\n",
    "2. Chart the original data and the equation on the chart.\n",
    "3. Find the equation's $R^2$ score (use the `.score` method) to determine whether the equation is a good fit for this data. (0.8 and greater is considered a strong correlation.)\n",
    "4. Extrapolate data:  If the ground temperature reached 95&deg; F, then at what approximate rate would you expect the crickets to be chirping?\n",
    "5. Interpolate data:  With a listening device, you discovered that on a particular morning the crickets were chirping at a rate of 18 chirps per second.  What was the approximate ground temperature that morning?"
   ]
  },
  {
   "cell_type": "markdown",
   "metadata": {},
   "source": [
    "### Task 1: Finding the linear regression"
   ]
  },
  {
   "cell_type": "code",
   "execution_count": 209,
   "metadata": {
    "collapsed": false
   },
   "outputs": [
    {
     "name": "stdout",
     "output_type": "stream",
     "text": [
      "Intercept: [ 22.84898231]\n",
      "Coefficient: [[ 3.410323]]\n"
     ]
    }
   ],
   "source": [
    "x = df[\"Chirps/Second\"].reshape(-1, 1)\n",
    "y = df[\"Ground Temperature\"].reshape(-1, 1)\n",
    "linreg = linear_model.LinearRegression()\n",
    "linreg.fit(x, y)\n",
    "lr2 = linear_model.LinearRegression()\n",
    "lr2.fit(y, x)\n",
    "print('Intercept:', linreg.intercept_)\n",
    "print('Coefficient:', linreg.coef_)"
   ]
  },
  {
   "cell_type": "markdown",
   "metadata": {},
   "source": [
    "### Task 2: Charting the data and linear regression"
   ]
  },
  {
   "cell_type": "code",
   "execution_count": 210,
   "metadata": {
    "collapsed": false
   },
   "outputs": [
    {
     "data": {
      "image/png": "[encoded data removed]",
      "text/plain": [
       "<matplotlib.figure.Figure at 0x116ecc550>"
      ]
     },
     "metadata": {},
     "output_type": "display_data"
    }
   ],
   "source": [
    "plt.scatter(x, y)\n",
    "plt.plot(x, linreg.predict(x), color='red')\n",
    "plt.show()"
   ]
  },
  {
   "cell_type": "markdown",
   "metadata": {},
   "source": [
    "### Task 3: Finding the $R^2$ value"
   ]
  },
  {
   "cell_type": "code",
   "execution_count": 211,
   "metadata": {
    "collapsed": false
   },
   "outputs": [
    {
     "name": "stdout",
     "output_type": "stream",
     "text": [
      "R-squared: 0.692294652915\n"
     ]
    }
   ],
   "source": [
    "print('R-squared:', linreg.score(x,y))"
   ]
  },
  {
   "cell_type": "markdown",
   "metadata": {},
   "source": [
    "Not the best fit for the data, only 0.69"
   ]
  },
  {
   "cell_type": "markdown",
   "metadata": {},
   "source": [
    "### Task 4 and 5: Extrapolate and interpolate data"
   ]
  },
  {
   "cell_type": "code",
   "execution_count": 212,
   "metadata": {
    "collapsed": false
   },
   "outputs": [
    {
     "name": "stdout",
     "output_type": "stream",
     "text": [
      "Chirps/sec at 95 degrees: [[ 19.74428913]]\n",
      "Temperature for 18 chirps/sec [[ 84.2347963]]\n"
     ]
    }
   ],
   "source": [
    "print('Chirps/sec at 95 degrees:', lr2.predict(95))\n",
    "print('Temperature for 18 chirps/sec', linreg.predict(18))"
   ]
  },
  {
   "cell_type": "markdown",
   "metadata": {},
   "source": [
    "## Brain vs. Body Weight\n",
    "\n",
    "In the file `brain_body.txt`, the average brain and body weight for a number of mammal species are recorded. Load this data into a Pandas data frame.\n",
    "\n",
    "### Tasks\n",
    "\n",
    "1. Find the linear regression equation for this data for brain weight to body weight.\n",
    "2. Chart the original data and the equation on the chart.\n",
    "3. Find the equation's $R^2$ score (use the `.score` method) to determine whether the equation is a good fit for this data. (0.8 and greater is considered a strong correlation.)"
   ]
  },
  {
   "cell_type": "code",
   "execution_count": 213,
   "metadata": {
    "collapsed": false
   },
   "outputs": [],
   "source": [
    "df = pd.read_fwf(\"brain_body.txt\")"
   ]
  },
  {
   "cell_type": "markdown",
   "metadata": {},
   "source": [
    "### Task1: Find the linear regression equation"
   ]
  },
  {
   "cell_type": "code",
   "execution_count": 214,
   "metadata": {
    "collapsed": false
   },
   "outputs": [
    {
     "name": "stdout",
     "output_type": "stream",
     "text": [
      "Intercept: [ 91.00439621]\n",
      "Coefficient: [[ 0.96649637]]\n"
     ]
    }
   ],
   "source": [
    "x = df[\"Brain\"].reshape(-1, 1)\n",
    "y = df[\"Body\"].reshape(-1, 1)\n",
    "linreg = linear_model.LinearRegression()\n",
    "linreg.fit(x, y)\n",
    "print('Intercept:', linreg.intercept_)\n",
    "print('Coefficient:', linreg.coef_)"
   ]
  },
  {
   "cell_type": "markdown",
   "metadata": {},
   "source": [
    "### Chart the original data and linear regression"
   ]
  },
  {
   "cell_type": "code",
   "execution_count": 215,
   "metadata": {
    "collapsed": false
   },
   "outputs": [
    {
     "data": {
      "image/png": "[encoded data removed]",
      "text/plain": [
       "<matplotlib.figure.Figure at 0x117cf84a8>"
      ]
     },
     "metadata": {},
     "output_type": "display_data"
    }
   ],
   "source": [
    "plt.scatter(x, y)\n",
    "plt.plot(x, linreg.predict(x), color='red')\n",
    "plt.show()"
   ]
  },
  {
   "cell_type": "markdown",
   "metadata": {},
   "source": [
    "### Task 3: Find the $R^2$ value"
   ]
  },
  {
   "cell_type": "code",
   "execution_count": 216,
   "metadata": {
    "collapsed": false
   },
   "outputs": [
    {
     "name": "stdout",
     "output_type": "stream",
     "text": [
      "R-squared: 0.872662084304\n"
     ]
    }
   ],
   "source": [
    "print('R-squared:', linreg.score(x,y))"
   ]
  },
  {
   "cell_type": "markdown",
   "metadata": {},
   "source": [
    "Good fit for this data set, 0.87"
   ]
  },
  {
   "cell_type": "markdown",
   "metadata": {},
   "source": [
    "## Salary Discrimination\n",
    "\n",
    "The file `salary.txt` contains data for 52 tenure-track professors at a small Midwestern college. This data was used in legal proceedings in the 1980s about discrimination against women in salary.\n",
    "\n",
    "The data in the file, by column:\n",
    "\n",
    "1. Sex. 1 for female, 0 for male.\n",
    "2. Rank. 1 for assistant professor, 2 for associate professor, 3 for full professor.\n",
    "3. Year. Number of years in current rank.\n",
    "4. Degree. Highest degree. 1 for doctorate, 0 for master's.\n",
    "5. YSdeg. Years since highest degree was earned.\n",
    "6. Salary. Salary/year in dollars.\n",
    "\n",
    "### Tasks\n",
    "\n",
    "1. Find the linear regression equation for this data using columns 1-5 to column 6.\n",
    "2. Find the selection of columns with the best $R^2$ score.\n",
    "3. Report whether sex is a factor in salary. Support your argument with graph(s) if appropriate."
   ]
  },
  {
   "cell_type": "code",
   "execution_count": 217,
   "metadata": {
    "collapsed": false
   },
   "outputs": [],
   "source": [
    "df = pd.read_fwf(\"salary.txt\", header=None, \n",
    "                 names=[\"Sex\", \"Rank\", \"Year\", \"Degree\", \"YSdeg\", \"Salary\"])"
   ]
  },
  {
   "cell_type": "markdown",
   "metadata": {},
   "source": [
    "### Task 1: Finding the linear regression for each colomn"
   ]
  },
  {
   "cell_type": "markdown",
   "metadata": {},
   "source": [
    "First we must check for outlying data points that would scew the regression results."
   ]
  },
  {
   "cell_type": "code",
   "execution_count": 218,
   "metadata": {
    "collapsed": false
   },
   "outputs": [],
   "source": [
    "dffem = df[df.Sex == 1]\n",
    "calc_fem = dffem[np.abs(dffem.Salary - dffem.Salary.mean()) <= (2 * dffem.Salary.std())]\n",
    "dfmale = df[df.Sex == 0]\n",
    "calc_male = dfmale[np.abs(dfmale.Salary - dfmale.Salary.mean()) <= (2 * dfmale.Salary.std())]\n",
    "frames = [calc_fem, calc_male]\n",
    "new_df = pd.concat(frames)"
   ]
  },
  {
   "cell_type": "markdown",
   "metadata": {},
   "source": [
    "Now we can find the linear regressions"
   ]
  },
  {
   "cell_type": "code",
   "execution_count": 219,
   "metadata": {
    "collapsed": false
   },
   "outputs": [
    {
     "name": "stdout",
     "output_type": "stream",
     "text": [
      "Sex equation\n",
      "Intercept: [ 24381.83783784]\n",
      "Coefficient: [[-4308.37629938]]\n",
      "\n",
      "Rank equation\n",
      "Intercept: [ 11663.14300203]\n",
      "Coefficient: [[ 5952.77890467]]\n",
      "\n",
      "Year equation\n",
      "Intercept: [ 18166.14754547]\n",
      "Coefficient: [[ 752.79775742]]\n",
      "\n",
      "Degree equation\n",
      "Intercept: [ 24359.22222222]\n",
      "Coefficient: [[-858.86928105]]\n",
      "\n",
      "YSdeg equation\n",
      "Intercept: [ 17502.25738659]\n",
      "Coefficient: [[ 390.64512637]]\n"
     ]
    }
   ],
   "source": [
    "y = df[\"Salary\"].reshape(-1, 1)\n",
    "\n",
    "a = new_df[\"Sex\"].reshape(-1, 1)\n",
    "y_new = new_df[\"Salary\"].reshape(-1, 1)\n",
    "lra = linear_model.LinearRegression()\n",
    "lra.fit(a, y_new)\n",
    "print('Sex equation')\n",
    "print('Intercept:', lra.intercept_)\n",
    "print('Coefficient:', lra.coef_)\n",
    "\n",
    "b = df[\"Rank\"].reshape(-1, 1)\n",
    "lrb = linear_model.LinearRegression()\n",
    "lrb.fit(b, y)\n",
    "print('\\nRank equation')\n",
    "print('Intercept:', lrb.intercept_)\n",
    "print('Coefficient:', lrb.coef_)\n",
    "\n",
    "c = df[\"Year\"].reshape(-1, 1)\n",
    "lrc = linear_model.LinearRegression()\n",
    "lrc.fit(c, y)\n",
    "print('\\nYear equation')\n",
    "print('Intercept:', lrc.intercept_)\n",
    "print('Coefficient:', lrc.coef_)\n",
    "\n",
    "d = df[\"Degree\"].reshape(-1, 1)\n",
    "lrd = linear_model.LinearRegression()\n",
    "lrd.fit(d, y)\n",
    "print('\\nDegree equation')\n",
    "print('Intercept:', lrd.intercept_)\n",
    "print('Coefficient:', lrd.coef_)\n",
    "\n",
    "e = df[\"YSdeg\"].reshape(-1, 1)\n",
    "lre = linear_model.LinearRegression()\n",
    "lre.fit(e, y)\n",
    "print('\\nYSdeg equation')\n",
    "print('Intercept:', lre.intercept_)\n",
    "print('Coefficient:', lre.coef_)\n"
   ]
  },
  {
   "cell_type": "markdown",
   "metadata": {},
   "source": [
    "### Task 2: Finding the best $R^2$"
   ]
  },
  {
   "cell_type": "code",
   "execution_count": 220,
   "metadata": {
    "collapsed": false
   },
   "outputs": [
    {
     "name": "stdout",
     "output_type": "stream",
     "text": [
      "Sex R-squared: 0.126570240945\n",
      "\n",
      "Rank R-squared: 0.752536053927\n",
      "\n",
      "Year R-squared: 0.490937026769\n",
      "\n",
      "Degree R-squared: 0.00486168098475\n",
      "\n",
      "YSdeg R-squared: 0.455428134584\n"
     ]
    }
   ],
   "source": [
    "print('Sex R-squared:', lra.score(a, y_new))\n",
    "print('\\nRank R-squared:', lrb.score(b, y))\n",
    "print('\\nYear R-squared:', lrc.score(c, y))\n",
    "print('\\nDegree R-squared:', lrd.score(d, y))\n",
    "print('\\nYSdeg R-squared:', lre.score(e, y))"
   ]
  },
  {
   "cell_type": "markdown",
   "metadata": {},
   "source": [
    "The rank data seems to have the best $R^2$"
   ]
  },
  {
   "cell_type": "markdown",
   "metadata": {},
   "source": [
    "### Task 3: Conclusions\n",
    "I think sex does have an effect on salary here, the scatter plot obviously shows the distinct distance between men and womens salaries."
   ]
  },
  {
   "cell_type": "code",
   "execution_count": 221,
   "metadata": {
    "collapsed": false
   },
   "outputs": [
    {
     "data": {
      "text/plain": [
       "<matplotlib.text.Text at 0x118184cc0>"
      ]
     },
     "execution_count": 221,
     "metadata": {},
     "output_type": "execute_result"
    },
    {
     "data": {
      "image/png": "[encoded data removed]",
      "text/plain": [
       "<matplotlib.figure.Figure at 0x117ff9cc0>"
      ]
     },
     "metadata": {},
     "output_type": "display_data"
    }
   ],
   "source": [
    "fig, axs = plt.subplots(1, 5, sharey=True, figsize=(20, 6))\n",
    "axs[0].scatter(new_df.Sex, y_new)\n",
    "axs[0].plot(a, lra.predict(a), color='red')\n",
    "axs[0].set_xlabel('Sex')\n",
    "axs[0].set_ylabel('Salary')\n",
    "\n",
    "axs[1].scatter(df.Rank, y)\n",
    "axs[1].plot(b, lrb.predict(b), color='red')\n",
    "axs[1].set_xlabel('Rank')\n",
    "axs[1].set_ylabel('Salary')\n",
    "\n",
    "axs[2].scatter(df.Year, y)\n",
    "axs[2].plot(c, lrc.predict(c), color='red')\n",
    "axs[2].set_xlabel('Year')\n",
    "axs[2].set_ylabel('Salary')\n",
    "\n",
    "axs[3].scatter(df.Degree, y)\n",
    "axs[3].plot(d, lrd.predict(d), color='red')\n",
    "axs[3].set_xlabel('Degree')\n",
    "axs[3].set_ylabel('Salary')\n",
    "\n",
    "axs[4].scatter(df.YSdeg, y)\n",
    "axs[4].plot(e, lre.predict(e), color='red')\n",
    "axs[4].set_xlabel('YSdeg')\n",
    "axs[4].set_ylabel('Salary')\n",
    "\n",
    "# df.plot(kind='scatter', x='Sex', y='Salary', ax=axs[0], figsize=(20,5))\n",
    "# df.plot(kind='scatter', x='Rank', y='Salary', ax=axs[1])\n",
    "# df.plot(kind='scatter', x='Year', y='Salary', ax=axs[2])\n",
    "# df.plot(kind='scatter', x='Degree', y='Salary', ax=axs[3])\n",
    "# df.plot(kind='scatter', x='YSdeg', y='Salary', ax=axs[4])"
   ]
  },
  {
   "cell_type": "code",
   "execution_count": null,
   "metadata": {
    "collapsed": true
   },
   "outputs": [],
   "source": []
  }
 ],
 "metadata": {
  "kernelspec": {
   "display_name": "Python 3",
   "language": "python",
   "name": "python3"
  },
  "language_info": {
   "codemirror_mode": {
    "name": "ipython",
    "version": 3
   },
   "file_extension": ".py",
   "mimetype": "text/x-python",
   "name": "python",
   "nbconvert_exporter": "python",
   "pygments_lexer": "ipython3",
   "version": "3.5.1"
  }
 },
 "nbformat": 4,
 "nbformat_minor": 0
}
